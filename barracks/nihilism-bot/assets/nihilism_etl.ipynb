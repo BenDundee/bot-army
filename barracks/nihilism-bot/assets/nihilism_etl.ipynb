{
 "cells": [
  {
   "cell_type": "code",
   "execution_count": 1,
   "metadata": {
    "collapsed": true
   },
   "outputs": [],
   "source": [
    "from bs4 import BeautifulSoup\n",
    "import requests as req"
   ]
  },
  {
   "cell_type": "code",
   "execution_count": 2,
   "metadata": {
    "collapsed": false
   },
   "outputs": [],
   "source": [
    "#raw_p1 = BeautifulSoup(req.get(\"http://www.goodreads.com/quotes/tag/nihilism\").text, \"html.parser\")\n",
    "#divs = raw_p1.find_all('div', {\"class\": \"quoteText\"})\n",
    "#for d in divs:\n",
    "#    _ =[s.extract() for s in d.find_all('script')]"
   ]
  },
  {
   "cell_type": "code",
   "execution_count": 3,
   "metadata": {
    "collapsed": false
   },
   "outputs": [],
   "source": [
    "#divs[1].text.strip('\\n').strip().split('\\n')"
   ]
  },
  {
   "cell_type": "code",
   "execution_count": 4,
   "metadata": {
    "collapsed": false
   },
   "outputs": [
    {
     "ename": "NameError",
     "evalue": "name 'divs' is not defined",
     "output_type": "error",
     "traceback": [
      "\u001b[0;31m---------------------------------------------------------------------------\u001b[0m",
      "\u001b[0;31mNameError\u001b[0m                                 Traceback (most recent call last)",
      "\u001b[0;32m<ipython-input-4-b184558fe791>\u001b[0m in \u001b[0;36m<module>\u001b[0;34m()\u001b[0m\n\u001b[0;32m----> 1\u001b[0;31m \u001b[0mcleaned\u001b[0m \u001b[0;34m=\u001b[0m \u001b[0;34m[\u001b[0m\u001b[0md\u001b[0m\u001b[0;34m.\u001b[0m\u001b[0mtext\u001b[0m\u001b[0;34m.\u001b[0m\u001b[0mstrip\u001b[0m\u001b[0;34m(\u001b[0m\u001b[0;34m'\\n'\u001b[0m\u001b[0;34m)\u001b[0m\u001b[0;34m.\u001b[0m\u001b[0mstrip\u001b[0m\u001b[0;34m(\u001b[0m\u001b[0;34m)\u001b[0m\u001b[0;34m.\u001b[0m\u001b[0msplit\u001b[0m\u001b[0;34m(\u001b[0m\u001b[0;34m'\\n'\u001b[0m\u001b[0;34m)\u001b[0m \u001b[0;32mfor\u001b[0m \u001b[0md\u001b[0m \u001b[0;32min\u001b[0m \u001b[0mdivs\u001b[0m\u001b[0;34m]\u001b[0m\u001b[0;34m\u001b[0m\u001b[0m\n\u001b[0m\u001b[1;32m      2\u001b[0m \u001b[0mquotes\u001b[0m \u001b[0;34m=\u001b[0m \u001b[0;34m[\u001b[0m\u001b[0;34m]\u001b[0m\u001b[0;34m\u001b[0m\u001b[0m\n\u001b[1;32m      3\u001b[0m \u001b[0;32mfor\u001b[0m \u001b[0mc\u001b[0m \u001b[0;32min\u001b[0m \u001b[0mcleaned\u001b[0m\u001b[0;34m:\u001b[0m\u001b[0;34m\u001b[0m\u001b[0m\n\u001b[1;32m      4\u001b[0m \u001b[0;34m\u001b[0m\u001b[0m\n\u001b[1;32m      5\u001b[0m     \u001b[0;32mtry\u001b[0m\u001b[0;34m:\u001b[0m\u001b[0;34m\u001b[0m\u001b[0m\n",
      "\u001b[0;31mNameError\u001b[0m: name 'divs' is not defined"
     ]
    }
   ],
   "source": [
    "cleaned = [d.text.strip('\\n').strip().split('\\n') for d in divs]\n",
    "quotes = []\n",
    "for c in cleaned:\n",
    "    \n",
    "    try:\n",
    "        quote = c[0].strip().strip('“').strip('”')  # special “\n",
    "        author = c[2].strip()\n",
    "        if len(c) > 3:\n",
    "            source = c[4].strip()\n",
    "        else:\n",
    "            source = \"\"\n",
    "    except:\n",
    "        print(c)\n",
    "        break\n",
    "    \n",
    "    quotes.append({\n",
    "            \"quote\": quote,\n",
    "            \"author\": author,\n",
    "            \"source\": source\n",
    "        })"
   ]
  },
  {
   "cell_type": "code",
   "execution_count": 8,
   "metadata": {
    "collapsed": true
   },
   "outputs": [],
   "source": [
    "PAGES = 6\n",
    "url = \"http://www.goodreads.com/quotes/tag/nihilism?page={}\"\n",
    "\n",
    "quotes = []\n",
    "for p in range(PAGES):\n",
    "    raw = BeautifulSoup(req.get(url.format(p)).text, \"html.parser\")\n",
    "    divs = raw.find_all('div', {\"class\": \"quoteText\"})\n",
    "    for d in divs:\n",
    "        _ =[s.extract() for s in d.find_all('script')]\n",
    "        \n",
    "    cleaned = [d.text.strip('\\n').strip().split('\\n') for d in divs]\n",
    "    \n",
    "    for c in cleaned:\n",
    "\n",
    "        try:\n",
    "            quote = c[0].strip().strip('“').strip('”')  # special “\n",
    "            author = c[2].strip().strip(',')\n",
    "            if len(c) > 3:\n",
    "                source = c[4].strip()\n",
    "            else:\n",
    "                source = \"\"\n",
    "        except:\n",
    "            print(c)\n",
    "            break\n",
    "\n",
    "        quotes.append({\n",
    "                \"quote\": quote,\n",
    "                \"author\": author,\n",
    "                \"source\": source\n",
    "            })"
   ]
  },
  {
   "cell_type": "code",
   "execution_count": 9,
   "metadata": {
    "collapsed": false
   },
   "outputs": [
    {
     "data": {
      "text/plain": [
       "180"
      ]
     },
     "execution_count": 9,
     "metadata": {},
     "output_type": "execute_result"
    }
   ],
   "source": [
    "len(quotes)"
   ]
  },
  {
   "cell_type": "code",
   "execution_count": 10,
   "metadata": {
    "collapsed": false
   },
   "outputs": [],
   "source": [
    "from csv import DictWriter\n",
    "fieldnames = [\"author\", \"quote\", \"source\"]\n",
    "with open('nihilist_quotes.txt', 'w') as f:\n",
    "    writer = DictWriter(f, fieldnames=fieldnames, delimiter=\"|\")\n",
    "    writer.writeheader()\n",
    "    _ = [writer.writerow(q) for q in quotes]"
   ]
  },
  {
   "cell_type": "code",
   "execution_count": null,
   "metadata": {
    "collapsed": true
   },
   "outputs": [],
   "source": []
  }
 ],
 "metadata": {
  "kernelspec": {
   "display_name": "Python 3",
   "language": "python",
   "name": "python3"
  },
  "language_info": {
   "codemirror_mode": {
    "name": "ipython",
    "version": 3
   },
   "file_extension": ".py",
   "mimetype": "text/x-python",
   "name": "python",
   "nbconvert_exporter": "python",
   "pygments_lexer": "ipython3",
   "version": "3.5.2"
  }
 },
 "nbformat": 4,
 "nbformat_minor": 0
}
